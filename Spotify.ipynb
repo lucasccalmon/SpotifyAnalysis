{
  "nbformat": 4,
  "nbformat_minor": 0,
  "metadata": {
    "colab": {
      "provenance": []
    },
    "kernelspec": {
      "name": "python3",
      "display_name": "Python 3"
    },
    "language_info": {
      "name": "python"
    }
  },
  "cells": [
    {
      "cell_type": "code",
      "execution_count": null,
      "metadata": {
        "id": "c9KJlWnvgqfp"
      },
      "outputs": [],
      "source": [
        "import pandas as pd\n",
        "import datetime\n",
        "import numpy as np\n",
        "import seaborn as sns\n",
        "import matplotlib.pyplot as plt"
      ]
    },
    {
      "cell_type": "markdown",
      "source": [
        "Para adquirir esses arquivos, siga os passos desse site: https://support.stats.fm/docs/import/spotify-import/"
      ],
      "metadata": {
        "id": "4PDaW-g6VUTU"
      }
    },
    {
      "cell_type": "code",
      "source": [
        "data1 = pd.read_json(\"Streaming_History_Audio_2016-2017_0.json\")\n",
        "data2 = pd.read_json(\"Streaming_History_Audio_2017-2018_1.json\")\n",
        "data3 = pd.read_json(\"Streaming_History_Audio_2018-2019_2.json\")\n",
        "data4 = pd.read_json(\"Streaming_History_Audio_2019-2021_3.json\")\n",
        "data5 = pd.read_json(\"Streaming_History_Audio_2021_4.json\")\n",
        "data6 = pd.read_json(\"Streaming_History_Audio_2021-2023_5.json\")\n",
        "data7 = pd.read_json(\"Streaming_History_Audio_2023-2024_6.json\")\n",
        "data8 = pd.read_json(\"Streaming_History_Audio_2024-2025_7.json\")"
      ],
      "metadata": {
        "id": "hyfiWDZEhJwk"
      },
      "execution_count": null,
      "outputs": []
    },
    {
      "cell_type": "code",
      "source": [
        "pdList = [data1, data2, data3, data4, data5, data6, data7, data8]  # List of your dataframes\n",
        "data = pd.concat(pdList)"
      ],
      "metadata": {
        "id": "EVck4FR768jN"
      },
      "execution_count": null,
      "outputs": []
    },
    {
      "cell_type": "code",
      "source": [
        "data.columns"
      ],
      "metadata": {
        "colab": {
          "base_uri": "https://localhost:8080/"
        },
        "id": "g5_kn1WjkAYX",
        "outputId": "653554f7-9c7a-4ccd-e8e2-ee3afe5109a5"
      },
      "execution_count": null,
      "outputs": [
        {
          "output_type": "execute_result",
          "data": {
            "text/plain": [
              "Index(['ts', 'platform', 'ms_played', 'conn_country', 'ip_addr',\n",
              "       'master_metadata_track_name', 'master_metadata_album_artist_name',\n",
              "       'master_metadata_album_album_name', 'spotify_track_uri', 'episode_name',\n",
              "       'episode_show_name', 'spotify_episode_uri', 'audiobook_title',\n",
              "       'audiobook_uri', 'audiobook_chapter_uri', 'audiobook_chapter_title',\n",
              "       'reason_start', 'reason_end', 'shuffle', 'skipped', 'offline',\n",
              "       'offline_timestamp', 'incognito_mode'],\n",
              "      dtype='object')"
            ]
          },
          "metadata": {},
          "execution_count": 6
        }
      ]
    },
    {
      "cell_type": "code",
      "source": [
        "data.tail()"
      ],
      "metadata": {
        "colab": {
          "base_uri": "https://localhost:8080/",
          "height": 342
        },
        "id": "bGOP4l4vlvHZ",
        "outputId": "31c01825-9e0b-4e85-d699-7e06eca87a09"
      },
      "execution_count": null,
      "outputs": [
        {
          "output_type": "execute_result",
          "data": {
            "text/plain": [
              "                         ts platform  ms_played conn_country  \\\n",
              "15163  2025-01-31T17:08:48Z      ios        469           BR   \n",
              "15164  2025-01-31T17:11:50Z      ios     183894           BR   \n",
              "15165  2025-01-31T17:15:53Z      ios     242480           BR   \n",
              "15166  2025-01-31T17:19:43Z      ios     229120           BR   \n",
              "15167  2025-01-31T17:22:17Z      ios     153190           BR   \n",
              "\n",
              "                                      ip_addr     master_metadata_track_name  \\\n",
              "15163  2804:14d:5cd0:9081:4cf9:63b4:e93c:cac1  Razão da Minha Vida - Ao Vivo   \n",
              "15164  2804:14d:5cd0:9081:4cf9:63b4:e93c:cac1                  acabou o amor   \n",
              "15165  2804:14d:5cd0:9081:4cf9:63b4:e93c:cac1  Razão da Minha Vida - Ao Vivo   \n",
              "15166  2804:14d:5cd0:9081:4cf9:63b4:e93c:cac1                       My Blood   \n",
              "15167  2804:14d:5cd0:9081:4cf9:63b4:e93c:cac1                          Ghost   \n",
              "\n",
              "      master_metadata_album_artist_name   master_metadata_album_album_name  \\\n",
              "15163                              Belo    Pra Ver o Sol Brilhar (Ao Vivo)   \n",
              "15164                      MC Cabelinho  Não Sou Santo Mas Não Sou Bandido   \n",
              "15165                              Belo    Pra Ver o Sol Brilhar (Ao Vivo)   \n",
              "15166                 Twenty One Pilots                             Trench   \n",
              "15167                     Justin Bieber                            Justice   \n",
              "\n",
              "                          spotify_track_uri episode_name  ... audiobook_uri  \\\n",
              "15163  spotify:track:6pUjgtGGQY1jt1P7qWbqjp          NaN  ...           NaN   \n",
              "15164  spotify:track:3TuJODOhChHkg1pbMQ8RW4          NaN  ...           NaN   \n",
              "15165  spotify:track:6pUjgtGGQY1jt1P7qWbqjp          NaN  ...           NaN   \n",
              "15166  spotify:track:5HeKOKc4phmLn8e4I7EkzD          NaN  ...           NaN   \n",
              "15167  spotify:track:6I3mqTwhRpn34SLVafSH7G          NaN  ...           NaN   \n",
              "\n",
              "      audiobook_chapter_uri  audiobook_chapter_title  reason_start  \\\n",
              "15163                   NaN                      NaN       backbtn   \n",
              "15164                   NaN                      NaN       backbtn   \n",
              "15165                   NaN                      NaN     trackdone   \n",
              "15166                   NaN                      NaN     trackdone   \n",
              "15167                   NaN                      NaN     trackdone   \n",
              "\n",
              "       reason_end  shuffle skipped offline  offline_timestamp  incognito_mode  \n",
              "15163     backbtn     True    True   False       1.738343e+09           False  \n",
              "15164   trackdone     True   False   False       1.738343e+09           False  \n",
              "15165   trackdone     True   False   False       1.738344e+09           False  \n",
              "15166   trackdone     True   False   False       1.738344e+09           False  \n",
              "15167   trackdone     True   False   False       1.738344e+09           False  \n",
              "\n",
              "[5 rows x 23 columns]"
            ],
            "text/html": [
              "\n",
              "  <div id=\"df-f23e8766-b07c-4462-b9a4-3a450892fb09\" class=\"colab-df-container\">\n",
              "    <div>\n",
              "<style scoped>\n",
              "    .dataframe tbody tr th:only-of-type {\n",
              "        vertical-align: middle;\n",
              "    }\n",
              "\n",
              "    .dataframe tbody tr th {\n",
              "        vertical-align: top;\n",
              "    }\n",
              "\n",
              "    .dataframe thead th {\n",
              "        text-align: right;\n",
              "    }\n",
              "</style>\n",
              "<table border=\"1\" class=\"dataframe\">\n",
              "  <thead>\n",
              "    <tr style=\"text-align: right;\">\n",
              "      <th></th>\n",
              "      <th>ts</th>\n",
              "      <th>platform</th>\n",
              "      <th>ms_played</th>\n",
              "      <th>conn_country</th>\n",
              "      <th>ip_addr</th>\n",
              "      <th>master_metadata_track_name</th>\n",
              "      <th>master_metadata_album_artist_name</th>\n",
              "      <th>master_metadata_album_album_name</th>\n",
              "      <th>spotify_track_uri</th>\n",
              "      <th>episode_name</th>\n",
              "      <th>...</th>\n",
              "      <th>audiobook_uri</th>\n",
              "      <th>audiobook_chapter_uri</th>\n",
              "      <th>audiobook_chapter_title</th>\n",
              "      <th>reason_start</th>\n",
              "      <th>reason_end</th>\n",
              "      <th>shuffle</th>\n",
              "      <th>skipped</th>\n",
              "      <th>offline</th>\n",
              "      <th>offline_timestamp</th>\n",
              "      <th>incognito_mode</th>\n",
              "    </tr>\n",
              "  </thead>\n",
              "  <tbody>\n",
              "    <tr>\n",
              "      <th>15163</th>\n",
              "      <td>2025-01-31T17:08:48Z</td>\n",
              "      <td>ios</td>\n",
              "      <td>469</td>\n",
              "      <td>BR</td>\n",
              "      <td>2804:14d:5cd0:9081:4cf9:63b4:e93c:cac1</td>\n",
              "      <td>Razão da Minha Vida - Ao Vivo</td>\n",
              "      <td>Belo</td>\n",
              "      <td>Pra Ver o Sol Brilhar (Ao Vivo)</td>\n",
              "      <td>spotify:track:6pUjgtGGQY1jt1P7qWbqjp</td>\n",
              "      <td>NaN</td>\n",
              "      <td>...</td>\n",
              "      <td>NaN</td>\n",
              "      <td>NaN</td>\n",
              "      <td>NaN</td>\n",
              "      <td>backbtn</td>\n",
              "      <td>backbtn</td>\n",
              "      <td>True</td>\n",
              "      <td>True</td>\n",
              "      <td>False</td>\n",
              "      <td>1.738343e+09</td>\n",
              "      <td>False</td>\n",
              "    </tr>\n",
              "    <tr>\n",
              "      <th>15164</th>\n",
              "      <td>2025-01-31T17:11:50Z</td>\n",
              "      <td>ios</td>\n",
              "      <td>183894</td>\n",
              "      <td>BR</td>\n",
              "      <td>2804:14d:5cd0:9081:4cf9:63b4:e93c:cac1</td>\n",
              "      <td>acabou o amor</td>\n",
              "      <td>MC Cabelinho</td>\n",
              "      <td>Não Sou Santo Mas Não Sou Bandido</td>\n",
              "      <td>spotify:track:3TuJODOhChHkg1pbMQ8RW4</td>\n",
              "      <td>NaN</td>\n",
              "      <td>...</td>\n",
              "      <td>NaN</td>\n",
              "      <td>NaN</td>\n",
              "      <td>NaN</td>\n",
              "      <td>backbtn</td>\n",
              "      <td>trackdone</td>\n",
              "      <td>True</td>\n",
              "      <td>False</td>\n",
              "      <td>False</td>\n",
              "      <td>1.738343e+09</td>\n",
              "      <td>False</td>\n",
              "    </tr>\n",
              "    <tr>\n",
              "      <th>15165</th>\n",
              "      <td>2025-01-31T17:15:53Z</td>\n",
              "      <td>ios</td>\n",
              "      <td>242480</td>\n",
              "      <td>BR</td>\n",
              "      <td>2804:14d:5cd0:9081:4cf9:63b4:e93c:cac1</td>\n",
              "      <td>Razão da Minha Vida - Ao Vivo</td>\n",
              "      <td>Belo</td>\n",
              "      <td>Pra Ver o Sol Brilhar (Ao Vivo)</td>\n",
              "      <td>spotify:track:6pUjgtGGQY1jt1P7qWbqjp</td>\n",
              "      <td>NaN</td>\n",
              "      <td>...</td>\n",
              "      <td>NaN</td>\n",
              "      <td>NaN</td>\n",
              "      <td>NaN</td>\n",
              "      <td>trackdone</td>\n",
              "      <td>trackdone</td>\n",
              "      <td>True</td>\n",
              "      <td>False</td>\n",
              "      <td>False</td>\n",
              "      <td>1.738344e+09</td>\n",
              "      <td>False</td>\n",
              "    </tr>\n",
              "    <tr>\n",
              "      <th>15166</th>\n",
              "      <td>2025-01-31T17:19:43Z</td>\n",
              "      <td>ios</td>\n",
              "      <td>229120</td>\n",
              "      <td>BR</td>\n",
              "      <td>2804:14d:5cd0:9081:4cf9:63b4:e93c:cac1</td>\n",
              "      <td>My Blood</td>\n",
              "      <td>Twenty One Pilots</td>\n",
              "      <td>Trench</td>\n",
              "      <td>spotify:track:5HeKOKc4phmLn8e4I7EkzD</td>\n",
              "      <td>NaN</td>\n",
              "      <td>...</td>\n",
              "      <td>NaN</td>\n",
              "      <td>NaN</td>\n",
              "      <td>NaN</td>\n",
              "      <td>trackdone</td>\n",
              "      <td>trackdone</td>\n",
              "      <td>True</td>\n",
              "      <td>False</td>\n",
              "      <td>False</td>\n",
              "      <td>1.738344e+09</td>\n",
              "      <td>False</td>\n",
              "    </tr>\n",
              "    <tr>\n",
              "      <th>15167</th>\n",
              "      <td>2025-01-31T17:22:17Z</td>\n",
              "      <td>ios</td>\n",
              "      <td>153190</td>\n",
              "      <td>BR</td>\n",
              "      <td>2804:14d:5cd0:9081:4cf9:63b4:e93c:cac1</td>\n",
              "      <td>Ghost</td>\n",
              "      <td>Justin Bieber</td>\n",
              "      <td>Justice</td>\n",
              "      <td>spotify:track:6I3mqTwhRpn34SLVafSH7G</td>\n",
              "      <td>NaN</td>\n",
              "      <td>...</td>\n",
              "      <td>NaN</td>\n",
              "      <td>NaN</td>\n",
              "      <td>NaN</td>\n",
              "      <td>trackdone</td>\n",
              "      <td>trackdone</td>\n",
              "      <td>True</td>\n",
              "      <td>False</td>\n",
              "      <td>False</td>\n",
              "      <td>1.738344e+09</td>\n",
              "      <td>False</td>\n",
              "    </tr>\n",
              "  </tbody>\n",
              "</table>\n",
              "<p>5 rows × 23 columns</p>\n",
              "</div>\n",
              "    <div class=\"colab-df-buttons\">\n",
              "\n",
              "  <div class=\"colab-df-container\">\n",
              "    <button class=\"colab-df-convert\" onclick=\"convertToInteractive('df-f23e8766-b07c-4462-b9a4-3a450892fb09')\"\n",
              "            title=\"Convert this dataframe to an interactive table.\"\n",
              "            style=\"display:none;\">\n",
              "\n",
              "  <svg xmlns=\"http://www.w3.org/2000/svg\" height=\"24px\" viewBox=\"0 -960 960 960\">\n",
              "    <path d=\"M120-120v-720h720v720H120Zm60-500h600v-160H180v160Zm220 220h160v-160H400v160Zm0 220h160v-160H400v160ZM180-400h160v-160H180v160Zm440 0h160v-160H620v160ZM180-180h160v-160H180v160Zm440 0h160v-160H620v160Z\"/>\n",
              "  </svg>\n",
              "    </button>\n",
              "\n",
              "  <style>\n",
              "    .colab-df-container {\n",
              "      display:flex;\n",
              "      gap: 12px;\n",
              "    }\n",
              "\n",
              "    .colab-df-convert {\n",
              "      background-color: #E8F0FE;\n",
              "      border: none;\n",
              "      border-radius: 50%;\n",
              "      cursor: pointer;\n",
              "      display: none;\n",
              "      fill: #1967D2;\n",
              "      height: 32px;\n",
              "      padding: 0 0 0 0;\n",
              "      width: 32px;\n",
              "    }\n",
              "\n",
              "    .colab-df-convert:hover {\n",
              "      background-color: #E2EBFA;\n",
              "      box-shadow: 0px 1px 2px rgba(60, 64, 67, 0.3), 0px 1px 3px 1px rgba(60, 64, 67, 0.15);\n",
              "      fill: #174EA6;\n",
              "    }\n",
              "\n",
              "    .colab-df-buttons div {\n",
              "      margin-bottom: 4px;\n",
              "    }\n",
              "\n",
              "    [theme=dark] .colab-df-convert {\n",
              "      background-color: #3B4455;\n",
              "      fill: #D2E3FC;\n",
              "    }\n",
              "\n",
              "    [theme=dark] .colab-df-convert:hover {\n",
              "      background-color: #434B5C;\n",
              "      box-shadow: 0px 1px 3px 1px rgba(0, 0, 0, 0.15);\n",
              "      filter: drop-shadow(0px 1px 2px rgba(0, 0, 0, 0.3));\n",
              "      fill: #FFFFFF;\n",
              "    }\n",
              "  </style>\n",
              "\n",
              "    <script>\n",
              "      const buttonEl =\n",
              "        document.querySelector('#df-f23e8766-b07c-4462-b9a4-3a450892fb09 button.colab-df-convert');\n",
              "      buttonEl.style.display =\n",
              "        google.colab.kernel.accessAllowed ? 'block' : 'none';\n",
              "\n",
              "      async function convertToInteractive(key) {\n",
              "        const element = document.querySelector('#df-f23e8766-b07c-4462-b9a4-3a450892fb09');\n",
              "        const dataTable =\n",
              "          await google.colab.kernel.invokeFunction('convertToInteractive',\n",
              "                                                    [key], {});\n",
              "        if (!dataTable) return;\n",
              "\n",
              "        const docLinkHtml = 'Like what you see? Visit the ' +\n",
              "          '<a target=\"_blank\" href=https://colab.research.google.com/notebooks/data_table.ipynb>data table notebook</a>'\n",
              "          + ' to learn more about interactive tables.';\n",
              "        element.innerHTML = '';\n",
              "        dataTable['output_type'] = 'display_data';\n",
              "        await google.colab.output.renderOutput(dataTable, element);\n",
              "        const docLink = document.createElement('div');\n",
              "        docLink.innerHTML = docLinkHtml;\n",
              "        element.appendChild(docLink);\n",
              "      }\n",
              "    </script>\n",
              "  </div>\n",
              "\n",
              "\n",
              "<div id=\"df-caf844af-6445-4c77-9022-e8a088944800\">\n",
              "  <button class=\"colab-df-quickchart\" onclick=\"quickchart('df-caf844af-6445-4c77-9022-e8a088944800')\"\n",
              "            title=\"Suggest charts\"\n",
              "            style=\"display:none;\">\n",
              "\n",
              "<svg xmlns=\"http://www.w3.org/2000/svg\" height=\"24px\"viewBox=\"0 0 24 24\"\n",
              "     width=\"24px\">\n",
              "    <g>\n",
              "        <path d=\"M19 3H5c-1.1 0-2 .9-2 2v14c0 1.1.9 2 2 2h14c1.1 0 2-.9 2-2V5c0-1.1-.9-2-2-2zM9 17H7v-7h2v7zm4 0h-2V7h2v10zm4 0h-2v-4h2v4z\"/>\n",
              "    </g>\n",
              "</svg>\n",
              "  </button>\n",
              "\n",
              "<style>\n",
              "  .colab-df-quickchart {\n",
              "      --bg-color: #E8F0FE;\n",
              "      --fill-color: #1967D2;\n",
              "      --hover-bg-color: #E2EBFA;\n",
              "      --hover-fill-color: #174EA6;\n",
              "      --disabled-fill-color: #AAA;\n",
              "      --disabled-bg-color: #DDD;\n",
              "  }\n",
              "\n",
              "  [theme=dark] .colab-df-quickchart {\n",
              "      --bg-color: #3B4455;\n",
              "      --fill-color: #D2E3FC;\n",
              "      --hover-bg-color: #434B5C;\n",
              "      --hover-fill-color: #FFFFFF;\n",
              "      --disabled-bg-color: #3B4455;\n",
              "      --disabled-fill-color: #666;\n",
              "  }\n",
              "\n",
              "  .colab-df-quickchart {\n",
              "    background-color: var(--bg-color);\n",
              "    border: none;\n",
              "    border-radius: 50%;\n",
              "    cursor: pointer;\n",
              "    display: none;\n",
              "    fill: var(--fill-color);\n",
              "    height: 32px;\n",
              "    padding: 0;\n",
              "    width: 32px;\n",
              "  }\n",
              "\n",
              "  .colab-df-quickchart:hover {\n",
              "    background-color: var(--hover-bg-color);\n",
              "    box-shadow: 0 1px 2px rgba(60, 64, 67, 0.3), 0 1px 3px 1px rgba(60, 64, 67, 0.15);\n",
              "    fill: var(--button-hover-fill-color);\n",
              "  }\n",
              "\n",
              "  .colab-df-quickchart-complete:disabled,\n",
              "  .colab-df-quickchart-complete:disabled:hover {\n",
              "    background-color: var(--disabled-bg-color);\n",
              "    fill: var(--disabled-fill-color);\n",
              "    box-shadow: none;\n",
              "  }\n",
              "\n",
              "  .colab-df-spinner {\n",
              "    border: 2px solid var(--fill-color);\n",
              "    border-color: transparent;\n",
              "    border-bottom-color: var(--fill-color);\n",
              "    animation:\n",
              "      spin 1s steps(1) infinite;\n",
              "  }\n",
              "\n",
              "  @keyframes spin {\n",
              "    0% {\n",
              "      border-color: transparent;\n",
              "      border-bottom-color: var(--fill-color);\n",
              "      border-left-color: var(--fill-color);\n",
              "    }\n",
              "    20% {\n",
              "      border-color: transparent;\n",
              "      border-left-color: var(--fill-color);\n",
              "      border-top-color: var(--fill-color);\n",
              "    }\n",
              "    30% {\n",
              "      border-color: transparent;\n",
              "      border-left-color: var(--fill-color);\n",
              "      border-top-color: var(--fill-color);\n",
              "      border-right-color: var(--fill-color);\n",
              "    }\n",
              "    40% {\n",
              "      border-color: transparent;\n",
              "      border-right-color: var(--fill-color);\n",
              "      border-top-color: var(--fill-color);\n",
              "    }\n",
              "    60% {\n",
              "      border-color: transparent;\n",
              "      border-right-color: var(--fill-color);\n",
              "    }\n",
              "    80% {\n",
              "      border-color: transparent;\n",
              "      border-right-color: var(--fill-color);\n",
              "      border-bottom-color: var(--fill-color);\n",
              "    }\n",
              "    90% {\n",
              "      border-color: transparent;\n",
              "      border-bottom-color: var(--fill-color);\n",
              "    }\n",
              "  }\n",
              "</style>\n",
              "\n",
              "  <script>\n",
              "    async function quickchart(key) {\n",
              "      const quickchartButtonEl =\n",
              "        document.querySelector('#' + key + ' button');\n",
              "      quickchartButtonEl.disabled = true;  // To prevent multiple clicks.\n",
              "      quickchartButtonEl.classList.add('colab-df-spinner');\n",
              "      try {\n",
              "        const charts = await google.colab.kernel.invokeFunction(\n",
              "            'suggestCharts', [key], {});\n",
              "      } catch (error) {\n",
              "        console.error('Error during call to suggestCharts:', error);\n",
              "      }\n",
              "      quickchartButtonEl.classList.remove('colab-df-spinner');\n",
              "      quickchartButtonEl.classList.add('colab-df-quickchart-complete');\n",
              "    }\n",
              "    (() => {\n",
              "      let quickchartButtonEl =\n",
              "        document.querySelector('#df-caf844af-6445-4c77-9022-e8a088944800 button');\n",
              "      quickchartButtonEl.style.display =\n",
              "        google.colab.kernel.accessAllowed ? 'block' : 'none';\n",
              "    })();\n",
              "  </script>\n",
              "</div>\n",
              "\n",
              "    </div>\n",
              "  </div>\n"
            ],
            "application/vnd.google.colaboratory.intrinsic+json": {
              "type": "dataframe"
            }
          },
          "metadata": {},
          "execution_count": 7
        }
      ]
    },
    {
      "cell_type": "code",
      "source": [
        "data[\"min_played\"] = data[\"ms_played\"] / 60000\n",
        "\n",
        "print(data)"
      ],
      "metadata": {
        "colab": {
          "base_uri": "https://localhost:8080/"
        },
        "id": "s_x4ParTbNDC",
        "outputId": "b23d49dd-db88-471c-c8ba-50ae28efc11f"
      },
      "execution_count": null,
      "outputs": [
        {
          "output_type": "stream",
          "name": "stdout",
          "text": [
            "                         ts                           platform  ms_played  \\\n",
            "0      2016-05-27T03:12:23Z  Windows 7 (6.1.7601; x64; SP1; S)      35000   \n",
            "1      2016-05-27T03:15:29Z  Windows 7 (6.1.7601; x64; SP1; S)     186330   \n",
            "2      2016-05-27T03:15:47Z  Windows 7 (6.1.7601; x64; SP1; S)      17620   \n",
            "3      2016-05-27T03:16:47Z  Windows 7 (6.1.7601; x64; SP1; S)      59870   \n",
            "4      2016-05-27T03:17:03Z  Windows 7 (6.1.7601; x64; SP1; S)       5118   \n",
            "...                     ...                                ...        ...   \n",
            "15163  2025-01-31T17:08:48Z                                ios        469   \n",
            "15164  2025-01-31T17:11:50Z                                ios     183894   \n",
            "15165  2025-01-31T17:15:53Z                                ios     242480   \n",
            "15166  2025-01-31T17:19:43Z                                ios     229120   \n",
            "15167  2025-01-31T17:22:17Z                                ios     153190   \n",
            "\n",
            "      conn_country                                 ip_addr  \\\n",
            "0               BR                           189.60.166.22   \n",
            "1               BR                           189.60.166.22   \n",
            "2               BR                           189.60.166.22   \n",
            "3               BR                           189.60.166.22   \n",
            "4               BR                           189.60.166.22   \n",
            "...            ...                                     ...   \n",
            "15163           BR  2804:14d:5cd0:9081:4cf9:63b4:e93c:cac1   \n",
            "15164           BR  2804:14d:5cd0:9081:4cf9:63b4:e93c:cac1   \n",
            "15165           BR  2804:14d:5cd0:9081:4cf9:63b4:e93c:cac1   \n",
            "15166           BR  2804:14d:5cd0:9081:4cf9:63b4:e93c:cac1   \n",
            "15167           BR  2804:14d:5cd0:9081:4cf9:63b4:e93c:cac1   \n",
            "\n",
            "                              master_metadata_track_name  \\\n",
            "0                                                Shadows   \n",
            "1                                          Snake Charmer   \n",
            "2      Revenge (Minecraft Creeper Song) (Feat. Captai...   \n",
            "3             Fallen Kingdom (Approaching Nirvana Remix)   \n",
            "4                                      Edge of the Globe   \n",
            "...                                                  ...   \n",
            "15163                      Razão da Minha Vida - Ao Vivo   \n",
            "15164                                      acabou o amor   \n",
            "15165                      Razão da Minha Vida - Ao Vivo   \n",
            "15166                                           My Blood   \n",
            "15167                                              Ghost   \n",
            "\n",
            "      master_metadata_album_artist_name  \\\n",
            "0                          Tryhardninja   \n",
            "1                          Tryhardninja   \n",
            "2                          Tryhardninja   \n",
            "3                          Tryhardninja   \n",
            "4                          Rockit Music   \n",
            "...                                 ...   \n",
            "15163                              Belo   \n",
            "15164                      MC Cabelinho   \n",
            "15165                              Belo   \n",
            "15166                 Twenty One Pilots   \n",
            "15167                     Justin Bieber   \n",
            "\n",
            "                        master_metadata_album_album_name  \\\n",
            "0                               Video Game Songs, Vol. 1   \n",
            "1                                          Snake Charmer   \n",
            "2      Revenge (Minecraft Creeper Song) [feat. Captai...   \n",
            "3                                   Fallen Kingdom Remix   \n",
            "4                                      Edge of the Globe   \n",
            "...                                                  ...   \n",
            "15163                    Pra Ver o Sol Brilhar (Ao Vivo)   \n",
            "15164                  Não Sou Santo Mas Não Sou Bandido   \n",
            "15165                    Pra Ver o Sol Brilhar (Ao Vivo)   \n",
            "15166                                             Trench   \n",
            "15167                                            Justice   \n",
            "\n",
            "                          spotify_track_uri episode_name  ...  \\\n",
            "0      spotify:track:3JHaeRH5vf0I3UKRylBpp9          NaN  ...   \n",
            "1      spotify:track:2pc8hIPcvcH9znWTvDSZos          NaN  ...   \n",
            "2      spotify:track:331sK7hrjMpy7y2GhVdQb3          NaN  ...   \n",
            "3      spotify:track:2Lh5QSUyAMsun7ueSar2sL          NaN  ...   \n",
            "4      spotify:track:1yZCiNFflgxv6Xs8NNV7MZ          NaN  ...   \n",
            "...                                     ...          ...  ...   \n",
            "15163  spotify:track:6pUjgtGGQY1jt1P7qWbqjp          NaN  ...   \n",
            "15164  spotify:track:3TuJODOhChHkg1pbMQ8RW4          NaN  ...   \n",
            "15165  spotify:track:6pUjgtGGQY1jt1P7qWbqjp          NaN  ...   \n",
            "15166  spotify:track:5HeKOKc4phmLn8e4I7EkzD          NaN  ...   \n",
            "15167  spotify:track:6I3mqTwhRpn34SLVafSH7G          NaN  ...   \n",
            "\n",
            "      audiobook_chapter_uri audiobook_chapter_title  reason_start  reason_end  \\\n",
            "0                       NaN                     NaN      clickrow     endplay   \n",
            "1                       NaN                     NaN      clickrow     endplay   \n",
            "2                       NaN                     NaN      clickrow     endplay   \n",
            "3                       NaN                     NaN      clickrow     endplay   \n",
            "4                       NaN                     NaN      clickrow     endplay   \n",
            "...                     ...                     ...           ...         ...   \n",
            "15163                   NaN                     NaN       backbtn     backbtn   \n",
            "15164                   NaN                     NaN       backbtn   trackdone   \n",
            "15165                   NaN                     NaN     trackdone   trackdone   \n",
            "15166                   NaN                     NaN     trackdone   trackdone   \n",
            "15167                   NaN                     NaN     trackdone   trackdone   \n",
            "\n",
            "       shuffle  skipped offline offline_timestamp  incognito_mode  min_played  \n",
            "0        False    False   False               NaN           False    0.583333  \n",
            "1        False    False   False               NaN           False    3.105500  \n",
            "2        False    False   False               NaN           False    0.293667  \n",
            "3        False    False   False               NaN           False    0.997833  \n",
            "4        False    False   False               NaN           False    0.085300  \n",
            "...        ...      ...     ...               ...             ...         ...  \n",
            "15163     True     True   False      1.738343e+09           False    0.007817  \n",
            "15164     True    False   False      1.738343e+09           False    3.064900  \n",
            "15165     True    False   False      1.738344e+09           False    4.041333  \n",
            "15166     True    False   False      1.738344e+09           False    3.818667  \n",
            "15167     True    False   False      1.738344e+09           False    2.553167  \n",
            "\n",
            "[124113 rows x 24 columns]\n"
          ]
        }
      ]
    },
    {
      "cell_type": "code",
      "source": [
        "total_ms = data['ms_played'].sum()\n",
        "total_ms = int(total_ms)\n",
        "total_horas = str(datetime.timedelta(milliseconds=total_ms)).split(\".\")[0]\n",
        "print('total de dias e horas escutadas:', total_horas)"
      ],
      "metadata": {
        "colab": {
          "base_uri": "https://localhost:8080/"
        },
        "id": "8nm_H2HBlxOz",
        "outputId": "65fe8163-d3f6-45d5-a767-14e8b2673fed"
      },
      "execution_count": null,
      "outputs": [
        {
          "output_type": "stream",
          "name": "stdout",
          "text": [
            "total de dias e horas escutadas: 234 days, 16:57:30\n"
          ]
        }
      ]
    },
    {
      "cell_type": "code",
      "source": [
        "total_ms = data['ms_played'].sum()\n",
        "total_min = total_ms / 60000  # Convertendo milissegundos para minutos\n",
        "\n",
        "print(f'Tempo total escutado: {total_min:.2f} minutos')\n"
      ],
      "metadata": {
        "colab": {
          "base_uri": "https://localhost:8080/"
        },
        "id": "HPPMMirHHFkb",
        "outputId": "9ca25589-9fa5-449e-9631-0dd35951926d"
      },
      "execution_count": null,
      "outputs": [
        {
          "output_type": "stream",
          "name": "stdout",
          "text": [
            "Tempo total escutado: 337977.50 minutos\n"
          ]
        }
      ]
    },
    {
      "cell_type": "code",
      "source": [
        "total_musicas = len(data)\n",
        "print('total de músicas escutadas', total_musicas)"
      ],
      "metadata": {
        "colab": {
          "base_uri": "https://localhost:8080/"
        },
        "id": "BZrsGuVLoYVM",
        "outputId": "41b937aa-596c-459d-b6f3-43be616ffb6f"
      },
      "execution_count": null,
      "outputs": [
        {
          "output_type": "stream",
          "name": "stdout",
          "text": [
            "total de músicas escutadas 124113\n"
          ]
        }
      ]
    },
    {
      "cell_type": "code",
      "source": [
        "data[\"ts\"] = pd.to_datetime(data[\"ts\"])\n",
        "data[\"dias\"] = data[\"ts\"].dt.strftime('%Y-%m-%d')"
      ],
      "metadata": {
        "id": "ANjaGZB904ds"
      },
      "execution_count": null,
      "outputs": []
    },
    {
      "cell_type": "code",
      "source": [
        "#comparando músicas por ano\n",
        "\n",
        "data[\"ts\"] = pd.to_datetime(data[\"ts\"])\n",
        "data[\"ano\"] = data[\"ts\"].dt.year\n",
        "contagem_anos = data[\"ano\"].value_counts()\n",
        "\n",
        "ano_mais_frequente = contagem_anos.idxmax()\n",
        "qtd_mais_frequente = contagem_anos.max()\n",
        "\n",
        "print(f\"O ano com mais streams é {ano_mais_frequente}, com {qtd_mais_frequente} linhas.\")"
      ],
      "metadata": {
        "colab": {
          "base_uri": "https://localhost:8080/"
        },
        "id": "xgDDAlMNpUtY",
        "outputId": "bb4f99a3-fcc0-43fe-c123-e50266498b23"
      },
      "execution_count": null,
      "outputs": [
        {
          "output_type": "stream",
          "name": "stdout",
          "text": [
            "O ano com mais streams é 2024, com 18339 linhas.\n"
          ]
        }
      ]
    },
    {
      "cell_type": "code",
      "source": [
        "data[\"ts\"] = pd.to_datetime(data[\"ts\"])\n",
        "\n",
        "# Criando uma coluna com Mês e Ano\n",
        "data[\"mes_ano\"] = data[\"ts\"].dt.to_period(\"M\")\n",
        "\n",
        "contagem_mesano = data['mes_ano'].value_counts()\n",
        "mesano_mais_frequente = contagem_mesano.idxmax()\n",
        "qtd_mesano_mais_frequente = contagem_mesano.max()\n",
        "print(f\"A mesano com mais streams é {mesano_mais_frequente}, com {qtd_mesano_mais_frequente} linhas.\")\n",
        "contagem_mesano"
      ],
      "metadata": {
        "colab": {
          "base_uri": "https://localhost:8080/",
          "height": 542
        },
        "id": "O43ceUov4MWs",
        "outputId": "fb43a5b2-e4a7-4c09-a8eb-87626520cc0f"
      },
      "execution_count": null,
      "outputs": [
        {
          "output_type": "stream",
          "name": "stdout",
          "text": [
            "A mesano com mais streams é 2017-08, com 3392 linhas.\n"
          ]
        },
        {
          "output_type": "stream",
          "name": "stderr",
          "text": [
            "<ipython-input-14-ae5b7ac925a5>:4: UserWarning: Converting to PeriodArray/Index representation will drop timezone information.\n",
            "  data[\"mes_ano\"] = data[\"ts\"].dt.to_period(\"M\")\n"
          ]
        },
        {
          "output_type": "execute_result",
          "data": {
            "text/plain": [
              "mes_ano\n",
              "2017-08    3392\n",
              "2017-09    2975\n",
              "2017-07    2432\n",
              "2024-05    2216\n",
              "2017-10    2208\n",
              "           ... \n",
              "2016-09     191\n",
              "2016-07     166\n",
              "2016-06     150\n",
              "2016-08      78\n",
              "2016-05      72\n",
              "Freq: M, Name: count, Length: 105, dtype: int64"
            ],
            "text/html": [
              "<div>\n",
              "<style scoped>\n",
              "    .dataframe tbody tr th:only-of-type {\n",
              "        vertical-align: middle;\n",
              "    }\n",
              "\n",
              "    .dataframe tbody tr th {\n",
              "        vertical-align: top;\n",
              "    }\n",
              "\n",
              "    .dataframe thead th {\n",
              "        text-align: right;\n",
              "    }\n",
              "</style>\n",
              "<table border=\"1\" class=\"dataframe\">\n",
              "  <thead>\n",
              "    <tr style=\"text-align: right;\">\n",
              "      <th></th>\n",
              "      <th>count</th>\n",
              "    </tr>\n",
              "    <tr>\n",
              "      <th>mes_ano</th>\n",
              "      <th></th>\n",
              "    </tr>\n",
              "  </thead>\n",
              "  <tbody>\n",
              "    <tr>\n",
              "      <th>2017-08</th>\n",
              "      <td>3392</td>\n",
              "    </tr>\n",
              "    <tr>\n",
              "      <th>2017-09</th>\n",
              "      <td>2975</td>\n",
              "    </tr>\n",
              "    <tr>\n",
              "      <th>2017-07</th>\n",
              "      <td>2432</td>\n",
              "    </tr>\n",
              "    <tr>\n",
              "      <th>2024-05</th>\n",
              "      <td>2216</td>\n",
              "    </tr>\n",
              "    <tr>\n",
              "      <th>2017-10</th>\n",
              "      <td>2208</td>\n",
              "    </tr>\n",
              "    <tr>\n",
              "      <th>...</th>\n",
              "      <td>...</td>\n",
              "    </tr>\n",
              "    <tr>\n",
              "      <th>2016-09</th>\n",
              "      <td>191</td>\n",
              "    </tr>\n",
              "    <tr>\n",
              "      <th>2016-07</th>\n",
              "      <td>166</td>\n",
              "    </tr>\n",
              "    <tr>\n",
              "      <th>2016-06</th>\n",
              "      <td>150</td>\n",
              "    </tr>\n",
              "    <tr>\n",
              "      <th>2016-08</th>\n",
              "      <td>78</td>\n",
              "    </tr>\n",
              "    <tr>\n",
              "      <th>2016-05</th>\n",
              "      <td>72</td>\n",
              "    </tr>\n",
              "  </tbody>\n",
              "</table>\n",
              "<p>105 rows × 1 columns</p>\n",
              "</div><br><label><b>dtype:</b> int64</label>"
            ]
          },
          "metadata": {},
          "execution_count": 14
        }
      ]
    },
    {
      "cell_type": "code",
      "source": [
        "plt.figure(figsize=(10, 5))\n",
        "sns.barplot(x=contagem_anos.index, y=contagem_anos.values, palette=\"Blues\")\n",
        "\n",
        "plt.xlabel(\"Ano\")\n",
        "plt.ylabel(\"Número de streams\")\n",
        "plt.title(\"Número de streams por Ano\")\n",
        "plt.xticks(rotation=45)\n",
        "\n",
        "plt.show()"
      ],
      "metadata": {
        "colab": {
          "base_uri": "https://localhost:8080/",
          "height": 595
        },
        "id": "gSd_Yve_3ZSO",
        "outputId": "f2595faf-fd07-41ca-9278-3a4dac86e733"
      },
      "execution_count": null,
      "outputs": [
        {
          "output_type": "stream",
          "name": "stderr",
          "text": [
            "<ipython-input-15-7c4e0ba24b4a>:2: FutureWarning: \n",
            "\n",
            "Passing `palette` without assigning `hue` is deprecated and will be removed in v0.14.0. Assign the `x` variable to `hue` and set `legend=False` for the same effect.\n",
            "\n",
            "  sns.barplot(x=contagem_anos.index, y=contagem_anos.values, palette=\"Blues\")\n"
          ]
        },
        {
          "output_type": "display_data",
          "data": {
            "text/plain": [
              "<Figure size 1000x500 with 1 Axes>"
            ],
            "image/png": "[encoded data removed]"
          },
          "metadata": {}
        }
      ]
    },
    {
      "cell_type": "code",
      "source": [
        "minutos_porano = data.groupby(\"ano\")[\"min_played\"].agg(sum)\n",
        "minutos_porano"
      ],
      "metadata": {
        "colab": {
          "base_uri": "https://localhost:8080/",
          "height": 484
        },
        "id": "GGd1ksmqkB9j",
        "outputId": "d7aeba5b-84eb-4e20-ae41-511b9301a6a4"
      },
      "execution_count": null,
      "outputs": [
        {
          "output_type": "stream",
          "name": "stderr",
          "text": [
            "<ipython-input-16-a843f761990a>:1: FutureWarning: The provided callable <built-in function sum> is currently using SeriesGroupBy.sum. In a future version of pandas, the provided callable will be used directly. To keep current behavior pass the string \"sum\" instead.\n",
            "  minutos_porano = data.groupby(\"ano\")[\"min_played\"].agg(sum)\n"
          ]
        },
        {
          "output_type": "execute_result",
          "data": {
            "text/plain": [
              "ano\n",
              "2016     4152.423167\n",
              "2017    35568.023433\n",
              "2018    37376.972833\n",
              "2019    34121.126783\n",
              "2020    36494.799167\n",
              "2021    43512.340117\n",
              "2022    30438.932850\n",
              "2023    51853.812033\n",
              "2024    58979.199633\n",
              "2025     5479.872883\n",
              "Name: min_played, dtype: float64"
            ],
            "text/html": [
              "<div>\n",
              "<style scoped>\n",
              "    .dataframe tbody tr th:only-of-type {\n",
              "        vertical-align: middle;\n",
              "    }\n",
              "\n",
              "    .dataframe tbody tr th {\n",
              "        vertical-align: top;\n",
              "    }\n",
              "\n",
              "    .dataframe thead th {\n",
              "        text-align: right;\n",
              "    }\n",
              "</style>\n",
              "<table border=\"1\" class=\"dataframe\">\n",
              "  <thead>\n",
              "    <tr style=\"text-align: right;\">\n",
              "      <th></th>\n",
              "      <th>min_played</th>\n",
              "    </tr>\n",
              "    <tr>\n",
              "      <th>ano</th>\n",
              "      <th></th>\n",
              "    </tr>\n",
              "  </thead>\n",
              "  <tbody>\n",
              "    <tr>\n",
              "      <th>2016</th>\n",
              "      <td>4152.423167</td>\n",
              "    </tr>\n",
              "    <tr>\n",
              "      <th>2017</th>\n",
              "      <td>35568.023433</td>\n",
              "    </tr>\n",
              "    <tr>\n",
              "      <th>2018</th>\n",
              "      <td>37376.972833</td>\n",
              "    </tr>\n",
              "    <tr>\n",
              "      <th>2019</th>\n",
              "      <td>34121.126783</td>\n",
              "    </tr>\n",
              "    <tr>\n",
              "      <th>2020</th>\n",
              "      <td>36494.799167</td>\n",
              "    </tr>\n",
              "    <tr>\n",
              "      <th>2021</th>\n",
              "      <td>43512.340117</td>\n",
              "    </tr>\n",
              "    <tr>\n",
              "      <th>2022</th>\n",
              "      <td>30438.932850</td>\n",
              "    </tr>\n",
              "    <tr>\n",
              "      <th>2023</th>\n",
              "      <td>51853.812033</td>\n",
              "    </tr>\n",
              "    <tr>\n",
              "      <th>2024</th>\n",
              "      <td>58979.199633</td>\n",
              "    </tr>\n",
              "    <tr>\n",
              "      <th>2025</th>\n",
              "      <td>5479.872883</td>\n",
              "    </tr>\n",
              "  </tbody>\n",
              "</table>\n",
              "</div><br><label><b>dtype:</b> float64</label>"
            ]
          },
          "metadata": {},
          "execution_count": 16
        }
      ]
    },
    {
      "cell_type": "code",
      "source": [
        "minutos_mesano = data['mes_ano'].value_counts()\n",
        "mesano_mais_frequente = minutos_mesano.idxmax()\n",
        "qtd_mesano_mais_frequente = minutos_mesano.max()\n",
        "print(f\"A mesano com mais streams é {mesano_mais_frequente}, com {qtd_mesano_mais_frequente} linhas.\")\n",
        "minutos_mesano"
      ],
      "metadata": {
        "colab": {
          "base_uri": "https://localhost:8080/",
          "height": 507
        },
        "id": "FL4n9FQTxbl_",
        "outputId": "7170d9bf-0b74-4ca5-f383-2e6f2bb7e411"
      },
      "execution_count": null,
      "outputs": [
        {
          "output_type": "stream",
          "name": "stdout",
          "text": [
            "A mesano com mais streams é 2017-08, com 3392 linhas.\n"
          ]
        },
        {
          "output_type": "execute_result",
          "data": {
            "text/plain": [
              "mes_ano\n",
              "2017-08    3392\n",
              "2017-09    2975\n",
              "2017-07    2432\n",
              "2024-05    2216\n",
              "2017-10    2208\n",
              "           ... \n",
              "2016-09     191\n",
              "2016-07     166\n",
              "2016-06     150\n",
              "2016-08      78\n",
              "2016-05      72\n",
              "Freq: M, Name: count, Length: 105, dtype: int64"
            ],
            "text/html": [
              "<div>\n",
              "<style scoped>\n",
              "    .dataframe tbody tr th:only-of-type {\n",
              "        vertical-align: middle;\n",
              "    }\n",
              "\n",
              "    .dataframe tbody tr th {\n",
              "        vertical-align: top;\n",
              "    }\n",
              "\n",
              "    .dataframe thead th {\n",
              "        text-align: right;\n",
              "    }\n",
              "</style>\n",
              "<table border=\"1\" class=\"dataframe\">\n",
              "  <thead>\n",
              "    <tr style=\"text-align: right;\">\n",
              "      <th></th>\n",
              "      <th>count</th>\n",
              "    </tr>\n",
              "    <tr>\n",
              "      <th>mes_ano</th>\n",
              "      <th></th>\n",
              "    </tr>\n",
              "  </thead>\n",
              "  <tbody>\n",
              "    <tr>\n",
              "      <th>2017-08</th>\n",
              "      <td>3392</td>\n",
              "    </tr>\n",
              "    <tr>\n",
              "      <th>2017-09</th>\n",
              "      <td>2975</td>\n",
              "    </tr>\n",
              "    <tr>\n",
              "      <th>2017-07</th>\n",
              "      <td>2432</td>\n",
              "    </tr>\n",
              "    <tr>\n",
              "      <th>2024-05</th>\n",
              "      <td>2216</td>\n",
              "    </tr>\n",
              "    <tr>\n",
              "      <th>2017-10</th>\n",
              "      <td>2208</td>\n",
              "    </tr>\n",
              "    <tr>\n",
              "      <th>...</th>\n",
              "      <td>...</td>\n",
              "    </tr>\n",
              "    <tr>\n",
              "      <th>2016-09</th>\n",
              "      <td>191</td>\n",
              "    </tr>\n",
              "    <tr>\n",
              "      <th>2016-07</th>\n",
              "      <td>166</td>\n",
              "    </tr>\n",
              "    <tr>\n",
              "      <th>2016-06</th>\n",
              "      <td>150</td>\n",
              "    </tr>\n",
              "    <tr>\n",
              "      <th>2016-08</th>\n",
              "      <td>78</td>\n",
              "    </tr>\n",
              "    <tr>\n",
              "      <th>2016-05</th>\n",
              "      <td>72</td>\n",
              "    </tr>\n",
              "  </tbody>\n",
              "</table>\n",
              "<p>105 rows × 1 columns</p>\n",
              "</div><br><label><b>dtype:</b> int64</label>"
            ]
          },
          "metadata": {},
          "execution_count": 17
        }
      ]
    },
    {
      "cell_type": "code",
      "source": [
        "minutos_mesano = data.groupby(\"mes_ano\")[\"min_played\"].agg(sum)\n",
        "mesano_mais_frequente = minutos_mesano.idxmax()\n",
        "qtd_minmesano_mais_frequente = minutos_mesano.max()\n",
        "print(f\"A mesano com mais minutos ouvidos é {mesano_mais_frequente}, com {qtd_minmesano_mais_frequente} minutos.\")\n"
      ],
      "metadata": {
        "colab": {
          "base_uri": "https://localhost:8080/"
        },
        "id": "MyUKoAsLx7m6",
        "outputId": "1bc94dbe-ae07-461c-d9a3-2b4cf125236e"
      },
      "execution_count": null,
      "outputs": [
        {
          "output_type": "stream",
          "name": "stdout",
          "text": [
            "A mesano com mais minutos ouvidos é 2017-08, com 7896.3816 minutos.\n"
          ]
        },
        {
          "output_type": "stream",
          "name": "stderr",
          "text": [
            "<ipython-input-18-0487381af02d>:1: FutureWarning: The provided callable <built-in function sum> is currently using SeriesGroupBy.sum. In a future version of pandas, the provided callable will be used directly. To keep current behavior pass the string \"sum\" instead.\n",
            "  minutos_mesano = data.groupby(\"mes_ano\")[\"min_played\"].agg(sum)\n"
          ]
        }
      ]
    },
    {
      "cell_type": "code",
      "source": [
        "import matplotlib.pyplot as plt\n",
        "import seaborn as sns\n",
        "\n",
        "# Criar a figura e o eixo principal\n",
        "fig, ax1 = plt.subplots(figsize=(10, 5))\n",
        "\n",
        "# Criar o gráfico de barras para minutos\n",
        "sns.barplot(x=minutos_porano.index, y=minutos_porano.values, palette=\"Blues\", ax=ax1)\n",
        "ax1.set_xlabel(\"Ano\")\n",
        "ax1.set_ylabel(\"Minutos tocados\")\n",
        "ax1.set_title(\"Minutos tocados por Ano\")\n",
        "ax1.set_xticklabels(minutos_porano.index, rotation=45)\n",
        "\n",
        "# Criar o segundo eixo Y para exibir em dias\n",
        "ax2 = ax1.twinx()\n",
        "dias_tocados = minutos_porano / 1440  # Convertendo minutos para dias\n",
        "ax2.set_ylabel(\"Dias tocados\")\n",
        "ax2.set_ylim(ax1.get_ylim()[0] / 1440, ax1.get_ylim()[1] / 1440)  # Sincronizar escala\n",
        "\n",
        "plt.show()\n"
      ],
      "metadata": {
        "colab": {
          "base_uri": "https://localhost:8080/",
          "height": 630
        },
        "id": "VPROtmL2kyg3",
        "outputId": "3a069a38-d9d7-4fac-c47c-8fccab438dff"
      },
      "execution_count": null,
      "outputs": [
        {
          "output_type": "stream",
          "name": "stderr",
          "text": [
            "<ipython-input-19-ad00f694aca6>:8: FutureWarning: \n",
            "\n",
            "Passing `palette` without assigning `hue` is deprecated and will be removed in v0.14.0. Assign the `x` variable to `hue` and set `legend=False` for the same effect.\n",
            "\n",
            "  sns.barplot(x=minutos_porano.index, y=minutos_porano.values, palette=\"Blues\", ax=ax1)\n",
            "<ipython-input-19-ad00f694aca6>:12: UserWarning: set_ticklabels() should only be used with a fixed number of ticks, i.e. after set_ticks() or using a FixedLocator.\n",
            "  ax1.set_xticklabels(minutos_porano.index, rotation=45)\n"
          ]
        },
        {
          "output_type": "display_data",
          "data": {
            "text/plain": [
              "<Figure size 1000x500 with 2 Axes>"
            ],
            "image/png": "[encoded data removed]"
          },
          "metadata": {}
        }
      ]
    },
    {
      "cell_type": "code",
      "source": [
        "import matplotlib.pyplot as plt\n",
        "import seaborn as sns\n",
        "\n",
        "# Criar a figura e o eixo principal com fundo preto\n",
        "fig, ax1 = plt.subplots(figsize=(10, 5))\n",
        "fig.patch.set_facecolor('black')  # Fundo preto da figura\n",
        "ax1.set_facecolor('black')  # Fundo preto do gráfico\n",
        "\n",
        "# Criar o gráfico de barras para minutos\n",
        "sns.barplot(x=minutos_porano.index, y=minutos_porano.values, palette=\"Greens\", ax=ax1)\n",
        "\n",
        "# Alterar cores dos textos e bordas\n",
        "ax1.spines['bottom'].set_color('white')\n",
        "ax1.spines['top'].set_color('white')\n",
        "ax1.spines['left'].set_color('white')\n",
        "ax1.spines['right'].set_color('white')\n",
        "\n",
        "ax1.xaxis.label.set_color('white')\n",
        "ax1.yaxis.label.set_color('white')\n",
        "ax1.title.set_color('white')\n",
        "ax1.tick_params(colors='white')\n",
        "\n",
        "ax1.set_xlabel(\"Ano\")\n",
        "ax1.set_ylabel(\"Minutos tocados\")\n",
        "ax1.set_xticklabels(minutos_porano.index, rotation=45, color='white')\n",
        "ax1.yaxis.set_tick_params(labelcolor='white')\n",
        "\n",
        "# Criar o segundo eixo Y para exibir em dias\n",
        "ax2 = ax1.twinx()\n",
        "dias_tocados = minutos_porano / 1440  # Convertendo minutos para dias\n",
        "ax2.set_ylabel(\"Dias tocados\", color='white')\n",
        "ax2.set_ylim(ax1.get_ylim()[0] / 1440, ax1.get_ylim()[1] / 1440)  # Sincronizar escala\n",
        "ax2.yaxis.set_tick_params(labelcolor='white')\n",
        "\n",
        "plt.show()\n"
      ],
      "metadata": {
        "colab": {
          "base_uri": "https://localhost:8080/",
          "height": 608
        },
        "id": "UYfvFWb3LQdF",
        "outputId": "a9e331ef-f9e0-42c3-b33d-f10e537bf0f9"
      },
      "execution_count": null,
      "outputs": [
        {
          "output_type": "stream",
          "name": "stderr",
          "text": [
            "<ipython-input-37-df212483a1fe>:10: FutureWarning: \n",
            "\n",
            "Passing `palette` without assigning `hue` is deprecated and will be removed in v0.14.0. Assign the `x` variable to `hue` and set `legend=False` for the same effect.\n",
            "\n",
            "  sns.barplot(x=minutos_porano.index, y=minutos_porano.values, palette=\"Greens\", ax=ax1)\n",
            "<ipython-input-37-df212483a1fe>:25: UserWarning: set_ticklabels() should only be used with a fixed number of ticks, i.e. after set_ticks() or using a FixedLocator.\n",
            "  ax1.set_xticklabels(minutos_porano.index, rotation=45, color='white')\n"
          ]
        },
        {
          "output_type": "display_data",
          "data": {
            "text/plain": [
              "<Figure size 1000x500 with 2 Axes>"
            ],
            "image/png": "[encoded data removed]"
          },
          "metadata": {}
        }
      ]
    },
    {
      "cell_type": "code",
      "source": [
        "#plataforma usada\n",
        "contagem_plataforma = data['platform'].value_counts()\n",
        "plataforma_mais_frequente = contagem_plataforma.idxmax()\n",
        "qtd_plt_mais_frequente = contagem_plataforma.max()\n",
        "print(f\"A plataforma com mais registros é {plataforma_mais_frequente}, com {qtd_plt_mais_frequente} linhas.\")"
      ],
      "metadata": {
        "colab": {
          "base_uri": "https://localhost:8080/"
        },
        "id": "EjndUmAKqm5C",
        "outputId": "746099d6-d69e-4a0b-e661-83a1208ce17e"
      },
      "execution_count": null,
      "outputs": [
        {
          "output_type": "stream",
          "name": "stdout",
          "text": [
            "A plataforma com mais registros é Android OS 8.1.0 API 27 (samsung, SM-J710MN), com 22019 linhas.\n"
          ]
        }
      ]
    },
    {
      "cell_type": "code",
      "source": [
        "#contagem artista (streams)\n",
        "contagem_artista = data['master_metadata_album_artist_name'].value_counts()\n",
        "artista_mais_frequente = contagem_artista.idxmax()\n",
        "qtd_artista_mais_frequente = contagem_artista.max()\n",
        "print(f\"O artista com mais registros é {artista_mais_frequente}, com {qtd_artista_mais_frequente} linhas.\")\n",
        "print(\"Top 10 artistas:\\n\" ,contagem_artista.head(10))"
      ],
      "metadata": {
        "colab": {
          "base_uri": "https://localhost:8080/"
        },
        "id": "KAg29Dbq0xej",
        "outputId": "9f20638f-fbed-40c2-b317-27b5ad54f493"
      },
      "execution_count": null,
      "outputs": [
        {
          "output_type": "stream",
          "name": "stdout",
          "text": [
            "O artista com mais registros é Twenty One Pilots, com 11500 linhas.\n",
            "Top 10 artistas:\n",
            " master_metadata_album_artist_name\n",
            "Twenty One Pilots    11500\n",
            "blackbear             5706\n",
            "Arctic Monkeys        4934\n",
            "Imagine Dragons       4184\n",
            "The Neighbourhood     4019\n",
            "Post Malone           3114\n",
            "Filipe Ret            2364\n",
            "XXXTENTACION          1927\n",
            "EDEN                  1886\n",
            "Djonga                1758\n",
            "Name: count, dtype: int64\n"
          ]
        }
      ]
    },
    {
      "cell_type": "code",
      "source": [
        "#contagem artista (min)\n",
        "artista_mais_tocada_info = (\n",
        "    data.groupby(\"master_metadata_album_artist_name\")[\"min_played\"]\n",
        "    .sum()\n",
        "    .reset_index()\n",
        "    .sort_values(by=\"min_played\", ascending=False)\n",
        ")\n",
        "\n",
        "print(artista_mais_tocada_info)\n"
      ],
      "metadata": {
        "colab": {
          "base_uri": "https://localhost:8080/"
        },
        "id": "aSZbDi15wmmO",
        "outputId": "797f7b4d-8ff0-4f13-eb1b-b090f771b801"
      },
      "execution_count": null,
      "outputs": [
        {
          "output_type": "stream",
          "name": "stdout",
          "text": [
            "     master_metadata_album_artist_name    min_played\n",
            "1751                 Twenty One Pilots  36001.031350\n",
            "1875                         blackbear  14348.249867\n",
            "102                     Arctic Monkeys  13967.685967\n",
            "720                    Imagine Dragons  12140.491817\n",
            "1682                 The Neighbourhood  11065.408067\n",
            "...                                ...           ...\n",
            "914                             Lensko      0.000000\n",
            "1510                       Shawn James      0.000000\n",
            "88                             Andinho      0.000000\n",
            "50                          AWOLNATION      0.000000\n",
            "1216                 Nadine Sutherland      0.000000\n",
            "\n",
            "[1951 rows x 2 columns]\n"
          ]
        }
      ]
    },
    {
      "cell_type": "code",
      "source": [
        "#contagem musica (streams)\n",
        "contagem_musica = data['master_metadata_track_name'].value_counts()\n",
        "musica_mais_frequente = contagem_musica.idxmax()\n",
        "qtd_musica_mais_frequente = contagem_musica.max()\n",
        "print(f\"O musica com mais registros é {musica_mais_frequente}, com {qtd_musica_mais_frequente} linhas.\")\n",
        "print(\"Top 10 musicas:\\n\" ,contagem_musica.head(10))"
      ],
      "metadata": {
        "colab": {
          "base_uri": "https://localhost:8080/"
        },
        "id": "nwAxv1-a1i49",
        "outputId": "5d0fe180-c1c5-41ea-c46d-61ac497112a1"
      },
      "execution_count": null,
      "outputs": [
        {
          "output_type": "stream",
          "name": "stdout",
          "text": [
            "O musica com mais registros é Sweater Weather, com 491 linhas.\n",
            "Top 10 musicas:\n",
            " master_metadata_track_name\n",
            "Sweater Weather    491\n",
            "Ride               366\n",
            "idfc               332\n",
            "Screen             300\n",
            "Daddy Issues       298\n",
            "Not Today          292\n",
            "Cry Baby           292\n",
            "Polarize           289\n",
            "Stressed Out       285\n",
            "The Judge          283\n",
            "Name: count, dtype: int64\n"
          ]
        }
      ]
    },
    {
      "cell_type": "code",
      "source": [
        "musica_mais_tocada_info = (\n",
        "    data.groupby(\"master_metadata_track_name\")[\"min_played\"]\n",
        "    .sum()\n",
        "    .reset_index()\n",
        "    .sort_values(by=\"min_played\", ascending=False)\n",
        ")\n",
        "\n",
        "print(musica_mais_tocada_info)\n"
      ],
      "metadata": {
        "colab": {
          "base_uri": "https://localhost:8080/"
        },
        "id": "T95ltaGfwHOb",
        "outputId": "53dcdc67-b6ae-4404-89f9-09ed56061792"
      },
      "execution_count": null,
      "outputs": [
        {
          "output_type": "stream",
          "name": "stdout",
          "text": [
            "             master_metadata_track_name   min_played\n",
            "3830         Poetas no Topo 3.2: Enredo  1522.619100\n",
            "4742                    Sweater Weather  1467.715533\n",
            "3829        Poetas no Topo 3.1: Prólogo  1309.797417\n",
            "3827                   Poetas no Topo 2  1253.323967\n",
            "3831          Poetas no Topo 3.3, Pt. 1  1121.309533\n",
            "...                                 ...          ...\n",
            "2615           King Bran's Final Voyage     0.000000\n",
            "4070                         Recayd Mob     0.000000\n",
            "4069                            Rebirth     0.000000\n",
            "4044  Ralando O Tchan (Dança Do Ventre)     0.000000\n",
            "1582                           Explosao     0.000000\n",
            "\n",
            "[6094 rows x 2 columns]\n"
          ]
        }
      ]
    },
    {
      "cell_type": "code",
      "source": [
        "#contagem album (streams)\n",
        "contagem_album = data['master_metadata_album_album_name'].value_counts()\n",
        "album_mais_frequente = contagem_album.idxmax()\n",
        "qtd_album_mais_frequente = contagem_album.max()\n",
        "print(f\"O album com mais registros é {album_mais_frequente}, com {qtd_album_mais_frequente} linhas.\")\n",
        "print(\"Top 10 albums:\\n\" ,contagem_album.head(10))"
      ],
      "metadata": {
        "colab": {
          "base_uri": "https://localhost:8080/"
        },
        "id": "1gG9iifj2APm",
        "outputId": "7d826a23-4031-4a5b-ecba-2bb445f93cc8"
      },
      "execution_count": null,
      "outputs": [
        {
          "output_type": "stream",
          "name": "stdout",
          "text": [
            "O album com mais registros é Blurryface, com 3232 linhas.\n",
            "Top 10 albums:\n",
            " master_metadata_album_album_name\n",
            "Blurryface                   3232\n",
            "Vessel                       2375\n",
            "Trench                       2018\n",
            "Wiped Out!                   1435\n",
            "AM                           1367\n",
            "Favourite Worst Nightmare    1290\n",
            "Origins                      1164\n",
            "Twenty One Pilots            1156\n",
            "ANONYMOUS                    1151\n",
            "I Love You.                  1116\n",
            "Name: count, dtype: int64\n"
          ]
        }
      ]
    },
    {
      "cell_type": "code",
      "source": [
        "album_mais_tocada_info = (\n",
        "    data.groupby(\"master_metadata_album_album_name\")[\"min_played\"]\n",
        "    .sum()\n",
        "    .reset_index()\n",
        "    .sort_values(by=\"min_played\", ascending=False)\n",
        "\n",
        ")\n",
        "\n",
        "print(album_mais_tocada_info)\n"
      ],
      "metadata": {
        "colab": {
          "base_uri": "https://localhost:8080/"
        },
        "id": "fNmmPDhiwc5X",
        "outputId": "0b121601-c5d7-4c1d-86bf-be6b8ab46ecd"
      },
      "execution_count": null,
      "outputs": [
        {
          "output_type": "stream",
          "name": "stdout",
          "text": [
            "     master_metadata_album_album_name   min_played\n",
            "472                        Blurryface  9514.543867\n",
            "3381                           Vessel  7282.399317\n",
            "3261                           Trench  6859.465700\n",
            "3493                       Wiped Out!  4412.821267\n",
            "146                                AM  3854.997333\n",
            "...                               ...          ...\n",
            "3712              É O Tchan Do Brasil     0.000000\n",
            "1597               Just Ragga, Vol. 3     0.000000\n",
            "498                   Brave New World     0.000000\n",
            "3128                    The Open Door     0.000000\n",
            "2304                         Parklive     0.000000\n",
            "\n",
            "[3737 rows x 2 columns]\n"
          ]
        }
      ]
    },
    {
      "cell_type": "code",
      "source": [
        "#países ouvidos\n",
        "contagem_pais = data['conn_country'].value_counts()\n",
        "contagem_pais"
      ],
      "metadata": {
        "colab": {
          "base_uri": "https://localhost:8080/",
          "height": 523
        },
        "id": "wu-Ma9tL2RrY",
        "outputId": "6e085f11-6aac-4678-e67a-0c70712c70b4"
      },
      "execution_count": null,
      "outputs": [
        {
          "output_type": "execute_result",
          "data": {
            "text/plain": [
              "conn_country\n",
              "BR    121686\n",
              "CA       911\n",
              "IT       371\n",
              "NL       303\n",
              "BE       228\n",
              "ZZ       225\n",
              "CH       202\n",
              "SE        81\n",
              "DE        37\n",
              "CY        36\n",
              "FR        21\n",
              "GB        11\n",
              "US         1\n",
              "Name: count, dtype: int64"
            ],
            "text/html": [
              "<div>\n",
              "<style scoped>\n",
              "    .dataframe tbody tr th:only-of-type {\n",
              "        vertical-align: middle;\n",
              "    }\n",
              "\n",
              "    .dataframe tbody tr th {\n",
              "        vertical-align: top;\n",
              "    }\n",
              "\n",
              "    .dataframe thead th {\n",
              "        text-align: right;\n",
              "    }\n",
              "</style>\n",
              "<table border=\"1\" class=\"dataframe\">\n",
              "  <thead>\n",
              "    <tr style=\"text-align: right;\">\n",
              "      <th></th>\n",
              "      <th>count</th>\n",
              "    </tr>\n",
              "    <tr>\n",
              "      <th>conn_country</th>\n",
              "      <th></th>\n",
              "    </tr>\n",
              "  </thead>\n",
              "  <tbody>\n",
              "    <tr>\n",
              "      <th>BR</th>\n",
              "      <td>121686</td>\n",
              "    </tr>\n",
              "    <tr>\n",
              "      <th>CA</th>\n",
              "      <td>911</td>\n",
              "    </tr>\n",
              "    <tr>\n",
              "      <th>IT</th>\n",
              "      <td>371</td>\n",
              "    </tr>\n",
              "    <tr>\n",
              "      <th>NL</th>\n",
              "      <td>303</td>\n",
              "    </tr>\n",
              "    <tr>\n",
              "      <th>BE</th>\n",
              "      <td>228</td>\n",
              "    </tr>\n",
              "    <tr>\n",
              "      <th>ZZ</th>\n",
              "      <td>225</td>\n",
              "    </tr>\n",
              "    <tr>\n",
              "      <th>CH</th>\n",
              "      <td>202</td>\n",
              "    </tr>\n",
              "    <tr>\n",
              "      <th>SE</th>\n",
              "      <td>81</td>\n",
              "    </tr>\n",
              "    <tr>\n",
              "      <th>DE</th>\n",
              "      <td>37</td>\n",
              "    </tr>\n",
              "    <tr>\n",
              "      <th>CY</th>\n",
              "      <td>36</td>\n",
              "    </tr>\n",
              "    <tr>\n",
              "      <th>FR</th>\n",
              "      <td>21</td>\n",
              "    </tr>\n",
              "    <tr>\n",
              "      <th>GB</th>\n",
              "      <td>11</td>\n",
              "    </tr>\n",
              "    <tr>\n",
              "      <th>US</th>\n",
              "      <td>1</td>\n",
              "    </tr>\n",
              "  </tbody>\n",
              "</table>\n",
              "</div><br><label><b>dtype:</b> int64</label>"
            ]
          },
          "metadata": {},
          "execution_count": 27
        }
      ]
    },
    {
      "cell_type": "code",
      "source": [
        "#começo e fim\n",
        "contagem_start = data['reason_start'].value_counts()\n",
        "start_mais_frequente = contagem_start.idxmax()\n",
        "qtd_start_mais_frequente = contagem_start.max()\n",
        "contagem_fim = data['reason_end'].value_counts()\n",
        "fim_mais_frequente = contagem_fim.idxmax()\n",
        "qtd_fim_mais_frequente = contagem_fim.max()\n",
        "print(f\"O start com mais registros é {start_mais_frequente}, com {qtd_start_mais_frequente} linhas. O fim com mais registros é {fim_mais_frequente}, com {qtd_fim_mais_frequente} linhas.\")\n",
        "contagem_fim"
      ],
      "metadata": {
        "colab": {
          "base_uri": "https://localhost:8080/",
          "height": 478
        },
        "id": "0RmV_fWT2nm0",
        "outputId": "a19f2a1d-a8a0-4a92-9be6-6f2701a434b7"
      },
      "execution_count": null,
      "outputs": [
        {
          "output_type": "stream",
          "name": "stdout",
          "text": [
            "O start com mais registros é trackdone, com 86636 linhas. O fim com mais registros é trackdone, com 86980 linhas.\n"
          ]
        },
        {
          "output_type": "execute_result",
          "data": {
            "text/plain": [
              "reason_end\n",
              "trackdone                       86980\n",
              "fwdbtn                          15189\n",
              "endplay                          8776\n",
              "logout                           4232\n",
              "backbtn                          4038\n",
              "unexpected-exit-while-paused     3059\n",
              "remote                           1174\n",
              "unknown                           367\n",
              "unexpected-exit                   253\n",
              "trackerror                         31\n",
              "                                   14\n",
              "Name: count, dtype: int64"
            ],
            "text/html": [
              "<div>\n",
              "<style scoped>\n",
              "    .dataframe tbody tr th:only-of-type {\n",
              "        vertical-align: middle;\n",
              "    }\n",
              "\n",
              "    .dataframe tbody tr th {\n",
              "        vertical-align: top;\n",
              "    }\n",
              "\n",
              "    .dataframe thead th {\n",
              "        text-align: right;\n",
              "    }\n",
              "</style>\n",
              "<table border=\"1\" class=\"dataframe\">\n",
              "  <thead>\n",
              "    <tr style=\"text-align: right;\">\n",
              "      <th></th>\n",
              "      <th>count</th>\n",
              "    </tr>\n",
              "    <tr>\n",
              "      <th>reason_end</th>\n",
              "      <th></th>\n",
              "    </tr>\n",
              "  </thead>\n",
              "  <tbody>\n",
              "    <tr>\n",
              "      <th>trackdone</th>\n",
              "      <td>86980</td>\n",
              "    </tr>\n",
              "    <tr>\n",
              "      <th>fwdbtn</th>\n",
              "      <td>15189</td>\n",
              "    </tr>\n",
              "    <tr>\n",
              "      <th>endplay</th>\n",
              "      <td>8776</td>\n",
              "    </tr>\n",
              "    <tr>\n",
              "      <th>logout</th>\n",
              "      <td>4232</td>\n",
              "    </tr>\n",
              "    <tr>\n",
              "      <th>backbtn</th>\n",
              "      <td>4038</td>\n",
              "    </tr>\n",
              "    <tr>\n",
              "      <th>unexpected-exit-while-paused</th>\n",
              "      <td>3059</td>\n",
              "    </tr>\n",
              "    <tr>\n",
              "      <th>remote</th>\n",
              "      <td>1174</td>\n",
              "    </tr>\n",
              "    <tr>\n",
              "      <th>unknown</th>\n",
              "      <td>367</td>\n",
              "    </tr>\n",
              "    <tr>\n",
              "      <th>unexpected-exit</th>\n",
              "      <td>253</td>\n",
              "    </tr>\n",
              "    <tr>\n",
              "      <th>trackerror</th>\n",
              "      <td>31</td>\n",
              "    </tr>\n",
              "    <tr>\n",
              "      <th></th>\n",
              "      <td>14</td>\n",
              "    </tr>\n",
              "  </tbody>\n",
              "</table>\n",
              "</div><br><label><b>dtype:</b> int64</label>"
            ]
          },
          "metadata": {},
          "execution_count": 28
        }
      ]
    },
    {
      "cell_type": "code",
      "source": [
        "#artista que definiu cada ano\n",
        "artista_mais_presente = data.groupby(\"ano\")[\"master_metadata_album_artist_name\"].agg(lambda x: x.value_counts().idxmax())\n",
        "\n",
        "print(artista_mais_presente)"
      ],
      "metadata": {
        "colab": {
          "base_uri": "https://localhost:8080/"
        },
        "id": "fN9yQ2oy487F",
        "outputId": "54e15553-b884-44c1-c2ee-d6170f236c24"
      },
      "execution_count": null,
      "outputs": [
        {
          "output_type": "stream",
          "name": "stdout",
          "text": [
            "ano\n",
            "2016            TheFatRat\n",
            "2017    Twenty One Pilots\n",
            "2018    Twenty One Pilots\n",
            "2019    Twenty One Pilots\n",
            "2020    Twenty One Pilots\n",
            "2021    Twenty One Pilots\n",
            "2022       Arctic Monkeys\n",
            "2023           Filipe Ret\n",
            "2024    Twenty One Pilots\n",
            "2025    Twenty One Pilots\n",
            "Name: master_metadata_album_artist_name, dtype: object\n"
          ]
        }
      ]
    },
    {
      "cell_type": "code",
      "source": [
        "#musica que definiu cada ano\n",
        "musica_mais_presente = data.groupby(\"ano\")[\"master_metadata_track_name\"].agg(lambda x: x.value_counts().idxmax())\n",
        "\n",
        "print(musica_mais_presente)"
      ],
      "metadata": {
        "id": "SVRDXzpjQvms",
        "outputId": "4fccccc9-cf2b-491b-a3f7-5f4bfcbfae90",
        "colab": {
          "base_uri": "https://localhost:8080/"
        }
      },
      "execution_count": null,
      "outputs": [
        {
          "output_type": "stream",
          "name": "stdout",
          "text": [
            "ano\n",
            "2016                                      Blasting Off\n",
            "2017                                   Sweater Weather\n",
            "2018                                   Sweater Weather\n",
            "2019                                            Legend\n",
            "2020    Thunderclouds (feat. Sia, Diplo, and Labrinth)\n",
            "2021                                            Legend\n",
            "2022                                           Vampiro\n",
            "2023                      Vai Me Dando Corda - Ao Vivo\n",
            "2024                                        Navigating\n",
            "2025                             Routines In The Night\n",
            "Name: master_metadata_track_name, dtype: object\n"
          ]
        }
      ]
    },
    {
      "cell_type": "code",
      "source": [
        "#Quantas músicas diferentes você já ouviu\n",
        "diferentes= data['master_metadata_track_name'].nunique()\n",
        "print(f\"você já ouviu {diferentes} músicas diferentes.\")"
      ],
      "metadata": {
        "colab": {
          "base_uri": "https://localhost:8080/"
        },
        "id": "ER-8wU7o5oRT",
        "outputId": "73aeba9f-e883-44c5-b815-3b40e0e5e0f4"
      },
      "execution_count": null,
      "outputs": [
        {
          "output_type": "stream",
          "name": "stdout",
          "text": [
            "você já ouviu 6094 músicas diferentes.\n"
          ]
        }
      ]
    },
    {
      "cell_type": "markdown",
      "source": [],
      "metadata": {
        "id": "Afo8f3YA3qXg"
      }
    },
    {
      "cell_type": "code",
      "source": [
        "artistas_diferentes_ano = data.groupby(\"ano\")[\"master_metadata_album_artist_name\"].nunique()\n",
        "print(artistas_diferentes_ano)\n"
      ],
      "metadata": {
        "colab": {
          "base_uri": "https://localhost:8080/"
        },
        "id": "3Q1rBVFunlZN",
        "outputId": "2a8362dc-b533-4d4d-ee33-923da17c1b1a"
      },
      "execution_count": null,
      "outputs": [
        {
          "output_type": "stream",
          "name": "stdout",
          "text": [
            "ano\n",
            "2016     73\n",
            "2017    461\n",
            "2018    468\n",
            "2019    347\n",
            "2020    414\n",
            "2021    459\n",
            "2022    577\n",
            "2023    655\n",
            "2024    812\n",
            "2025    366\n",
            "Name: master_metadata_album_artist_name, dtype: int64\n"
          ]
        }
      ]
    },
    {
      "cell_type": "code",
      "source": [
        "musicas_diferentes_ano = data.groupby(\"ano\")[\"master_metadata_track_name\"].nunique()\n",
        "print(musicas_diferentes_ano)\n"
      ],
      "metadata": {
        "colab": {
          "base_uri": "https://localhost:8080/"
        },
        "id": "vXt67UBfqG4a",
        "outputId": "18e7c4bb-c8f9-47d3-9ac5-9021e6162b61"
      },
      "execution_count": null,
      "outputs": [
        {
          "output_type": "stream",
          "name": "stdout",
          "text": [
            "ano\n",
            "2016     212\n",
            "2017     966\n",
            "2018    1172\n",
            "2019     938\n",
            "2020    1265\n",
            "2021    1603\n",
            "2022    1759\n",
            "2023    2390\n",
            "2024    2573\n",
            "2025     964\n",
            "Name: master_metadata_track_name, dtype: int64\n"
          ]
        }
      ]
    },
    {
      "cell_type": "code",
      "source": [
        "dia_mais_min = data.groupby(\"dias\")[\"min_played\"].sum()\n",
        "print(dia_mais_min.sort_values())"
      ],
      "metadata": {
        "colab": {
          "base_uri": "https://localhost:8080/"
        },
        "id": "L4ztexZf1-bH",
        "outputId": "c2e5cdf5-5502-4157-ae4c-b835bba01df2"
      },
      "execution_count": null,
      "outputs": [
        {
          "output_type": "stream",
          "name": "stdout",
          "text": [
            "dias\n",
            "2017-06-25      0.042100\n",
            "2017-02-26      0.117167\n",
            "2025-01-05      0.144067\n",
            "2017-04-07      0.155500\n",
            "2016-12-21      0.171500\n",
            "                 ...    \n",
            "2019-02-09    563.788217\n",
            "2024-04-27    601.425650\n",
            "2017-09-08    618.180617\n",
            "2018-10-06    636.985083\n",
            "2018-10-04    765.559200\n",
            "Name: min_played, Length: 2931, dtype: float64\n"
          ]
        }
      ]
    },
    {
      "cell_type": "code",
      "source": [
        "data_filtrado = data[data[\"dias\"] == \"2018-10-04\"]\n",
        "len(data_filtrado)"
      ],
      "metadata": {
        "colab": {
          "base_uri": "https://localhost:8080/"
        },
        "id": "ETbExu_43aoW",
        "outputId": "a65a61e1-3f31-41fe-da7b-02723e5f9055"
      },
      "execution_count": null,
      "outputs": [
        {
          "output_type": "execute_result",
          "data": {
            "text/plain": [
              "216"
            ]
          },
          "metadata": {},
          "execution_count": 34
        }
      ]
    }
  ]
}